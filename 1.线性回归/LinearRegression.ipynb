{
 "cells": [
  {
   "cell_type": "markdown",
   "metadata": {},
   "source": [
    "# 极简逻辑回归：Python实现"
   ]
  },
  {
   "cell_type": "code",
   "execution_count": null,
   "metadata": {},
   "outputs": [],
   "source": [
    "import numpy as np\n",
    "from sklearn.datasets import make_classification\n",
    "import plotly.graph_objects as go\n",
    "\n",
    "# 生成模拟数据\n",
    "X, y = make_classification(n_samples=200, n_features=2, n_redundant=0, n_clusters_per_class=1, random_state=42)\n",
    "y = y.reshape(-1, 1)\n",
    "\n",
    "# 可视化数据分布\n",
    "fig = go.Figure()\n",
    "fig.add_trace(go.Scatter(x=X[y[:,0]==0,0], y=X[y[:,0]==0,1], mode='markers', name='类别0'))\n",
    "fig.add_trace(go.Scatter(x=X[y[:,0]==1,0], y=X[y[:,0]==1,1], mode='markers', name='类别1'))\n",
    "fig.update_layout(title='模拟二分类数据', xaxis_title='x1', yaxis_title='x2', title_x=0.5)\n",
    "fig.show()"
   ]
  },
  {
   "cell_type": "code",
   "execution_count": null,
   "metadata": {},
   "outputs": [],
   "source": [
    "# Sigmoid函数\n",
    "def sigmoid(z):\n",
    "    return 1 / (1 + np.exp(-z))"
   ]
  },
  {
   "cell_type": "code",
   "execution_count": null,
   "metadata": {},
   "outputs": [],
   "source": [
    "# 逻辑回归梯度下降实现\n",
    "def logistic_regression(X, y, lr=0.1, n_iters=200):\n",
    "    m, n = X.shape\n",
    "    X_b = np.c_[np.ones((m, 1)), X]  # 增加偏置项\n",
    "    w = np.zeros((n+1, 1))\n",
    "    losses = []\n",
    "    for i in range(n_iters):\n",
    "        z = X_b @ w\n",
    "        y_pred = sigmoid(z)\n",
    "        loss = -np.mean(y * np.log(y_pred + 1e-8) + (1-y) * np.log(1-y_pred + 1e-8))\n",
    "        grad = X_b.T @ (y_pred - y) / m\n",
    "        w -= lr * grad\n",
    "        losses.append(loss)\n",
    "    return w, losses\n",
    "\n",
    "w, losses = logistic_regression(X, y, lr=0.2, n_iters=200)\n",
    "print(f'训练结束，最终损失：{losses[-1]:.4f}')"
   ]
  },
  {
   "cell_type": "code",
   "execution_count": null,
   "metadata": {},
   "outputs": [],
   "source": [
    "# 可视化损失曲线\n",
    "fig_loss = go.Figure()\n",
    "fig_loss.add_trace(go.Scatter(y=losses, mode='lines', name='训练损失'))\n",
    "fig_loss.update_layout(title='逻辑回归损失曲线', xaxis_title='迭代次数', yaxis_title='损失', title_x=0.5)\n",
    "fig_loss.show()"
   ]
  },
  {
   "cell_type": "code",
   "execution_count": null,
   "metadata": {},
   "outputs": [],
   "source": [
    "# 可视化决策边界\n",
    "x_min, x_max = X[:,0].min()-1, X[:,0].max()+1\n",
    "y_min, y_max = X[:,1].min()-1, X[:,1].max()+1\n",
    "xx, yy = np.meshgrid(np.linspace(x_min, x_max, 200), np.linspace(y_min, y_max, 200))\n",
    "grid = np.c_[np.ones(xx.ravel().shape), xx.ravel(), yy.ravel()]\n",
    "probs = sigmoid(grid @ w).reshape(xx.shape)\n",
    "\n",
    "fig = go.Figure()\n",
    "fig.add_trace(go.Contour(z=probs, x=np.linspace(x_min, x_max, 200), y=np.linspace(y_min, y_max, 200), showscale=False, contours_coloring='lines', line_width=2, name='决策边界'))\n",
    "fig.add_trace(go.Scatter(x=X[y[:,0]==0,0], y=X[y[:,0]==0,1], mode='markers', name='类别0'))\n",
    "fig.add_trace(go.Scatter(x=X[y[:,0]==1,0], y=X[y[:,0]==1,1], mode='markers', name='类别1'))\n",
    "fig.update_layout(title='逻辑回归决策边界', xaxis_title='x1', yaxis_title='x2', title_x=0.5)\n",
    "fig.show()"
   ]
  },
  {
   "cell_type": "code",
   "execution_count": null,
   "metadata": {},
   "outputs": [],
   "source": [
    "# 计算准确率\n",
    "from sklearn.metrics import accuracy_score\n",
    "X_b = np.c_[np.ones((X.shape[0], 1)), X]\n",
    "y_pred = sigmoid(X_b @ w) >= 0.5\n",
    "acc = accuracy_score(y, y_pred)\n",
    "print(f'训练集准确率：{acc:.2%}')"
   ]
  }
 ],
 "metadata": {
  "kernelspec": {
   "display_name": "opencv",
   "language": "python",
   "name": "python3"
  },
  "language_info": {
   "name": "python",
   "version": "3.12.7"
  }
 },
 "nbformat": 4,
 "nbformat_minor": 2
}

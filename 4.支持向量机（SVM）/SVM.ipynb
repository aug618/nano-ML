{
 "cells": [
  {
   "cell_type": "markdown",
   "id": "6b90b74d",
   "metadata": {},
   "source": [
    "# SVM实战：乳腺癌数据集分类"
   ]
  },
  {
   "cell_type": "markdown",
   "id": "45bfd32d",
   "metadata": {},
   "source": [
    "## 1、数据加载与初步探索"
   ]
  },
  {
   "cell_type": "code",
   "execution_count": 7,
   "id": "3b0fd97e",
   "metadata": {},
   "outputs": [
    {
     "name": "stdout",
     "output_type": "stream",
     "text": [
      "数据集前5行：\n",
      "   id diagnosis_result  radius  texture  perimeter  area  smoothness  \\\n",
      "0   1                M      23       12        151   954       0.143   \n",
      "1   2                B       9       13        133  1326       0.143   \n",
      "2   3                M      21       27        130  1203       0.125   \n",
      "3   4                M      14       16         78   386       0.070   \n",
      "4   5                M       9       19        135  1297       0.141   \n",
      "\n",
      "   compactness  symmetry  fractal_dimension  \n",
      "0        0.278     0.242              0.079  \n",
      "1        0.079     0.181              0.057  \n",
      "2        0.160     0.207              0.060  \n",
      "3        0.284     0.260              0.097  \n",
      "4        0.133     0.181              0.059  \n",
      "\n",
      "类别分布：\n",
      "diagnosis_result\n",
      "M    62\n",
      "B    38\n",
      "Name: count, dtype: int64\n"
     ]
    }
   ],
   "source": [
    "import pandas as pd\n",
    "\n",
    "# 加载数据\n",
    "data = pd.read_csv('./data/data.csv')\n",
    "print(\"数据集前5行：\")\n",
    "print(data.head())\n",
    "\n",
    "# %%\n",
    "# 查看数据基本信息和类别分布\n",
    "print(\"\\n类别分布：\")\n",
    "print(data['diagnosis_result'].value_counts())"
   ]
  },
  {
   "cell_type": "markdown",
   "id": "5ae2b32e",
   "metadata": {},
   "source": [
    "## 2、数据预处理"
   ]
  },
  {
   "cell_type": "code",
   "execution_count": 2,
   "id": "972112b4",
   "metadata": {},
   "outputs": [
    {
     "name": "stdout",
     "output_type": "stream",
     "text": [
      "训练集样本数: 80, 测试集样本数: 20\n"
     ]
    }
   ],
   "source": [
    "# ## 2. 数据预处理\n",
    "# - 只保留特征和标签\n",
    "# - 标签编码（M=1, B=0）\n",
    "# - 划分训练集和测试集\n",
    "# - 特征标准化\n",
    "import numpy as np\n",
    "from sklearn.model_selection import train_test_split\n",
    "from sklearn.preprocessing import StandardScaler\n",
    "\n",
    "# 取特征和标签\n",
    "X = data.iloc[:, 2:].values\n",
    "y = np.where(data['diagnosis_result'] == 'M', 1, 0)\n",
    "\n",
    "# 划分训练集和测试集\n",
    "X_train, X_test, y_train, y_test = train_test_split(\n",
    "    X, y, test_size=0.2, random_state=42, stratify=y\n",
    ")\n",
    "print(f\"训练集样本数: {len(y_train)}, 测试集样本数: {len(y_test)}\")\n",
    "\n",
    "# 特征标准化\n",
    "scaler = StandardScaler()\n",
    "X_train = scaler.fit_transform(X_train)\n",
    "X_test = scaler.transform(X_test)"
   ]
  },
  {
   "cell_type": "markdown",
   "id": "5f42b491",
   "metadata": {},
   "source": [
    "## 3、SVM模型训练与预测（线性核）"
   ]
  },
  {
   "cell_type": "code",
   "execution_count": 3,
   "id": "c536542f",
   "metadata": {},
   "outputs": [
    {
     "name": "stdout",
     "output_type": "stream",
     "text": [
      "SVM模型已训练完成（线性核）\n",
      "前10个预测结果： [0 1 1 0 0 1 0 1 0 0]\n",
      "前10个真实标签： [1 1 1 1 0 0 0 1 0 0]\n"
     ]
    }
   ],
   "source": [
    "from sklearn.svm import SVC\n",
    "\n",
    "# 创建并训练SVM分类器（线性核）\n",
    "svm_clf = SVC(kernel='linear', C=1.0, random_state=42)\n",
    "svm_clf.fit(X_train, y_train)\n",
    "print(\"SVM模型已训练完成（线性核）\")\n",
    "\n",
    "# 预测\n",
    "y_pred = svm_clf.predict(X_test)\n",
    "print(\"前10个预测结果：\", y_pred[:10])\n",
    "print(\"前10个真实标签：\", y_test[:10])"
   ]
  },
  {
   "cell_type": "markdown",
   "id": "945ee139",
   "metadata": {},
   "source": [
    "## 4、模型评估"
   ]
  },
  {
   "cell_type": "code",
   "execution_count": 6,
   "id": "b928a30d",
   "metadata": {},
   "outputs": [
    {
     "name": "stdout",
     "output_type": "stream",
     "text": [
      "测试集准确率：0.8000\n",
      "分类报告：\n",
      "              precision    recall  f1-score   support\n",
      "\n",
      "       良性(B)       0.75      0.75      0.75         8\n",
      "       恶性(M)       0.83      0.83      0.83        12\n",
      "\n",
      "    accuracy                           0.80        20\n",
      "   macro avg       0.79      0.79      0.79        20\n",
      "weighted avg       0.80      0.80      0.80        20\n",
      "\n"
     ]
    }
   ],
   "source": [
    "from sklearn.metrics import accuracy_score, classification_report, confusion_matrix\n",
    "\n",
    "# 准确率\n",
    "acc = accuracy_score(y_test, y_pred)\n",
    "print(f\"测试集准确率：{acc:.4f}\")\n",
    "\n",
    "# 分类报告\n",
    "print(\"分类报告：\")\n",
    "print(classification_report(y_test, y_pred, target_names=['良性(B)', '恶性(M)']))\n",
    "\n"
   ]
  }
 ],
 "metadata": {
  "kernelspec": {
   "display_name": "opencv",
   "language": "python",
   "name": "python3"
  },
  "language_info": {
   "codemirror_mode": {
    "name": "ipython",
    "version": 3
   },
   "file_extension": ".py",
   "mimetype": "text/x-python",
   "name": "python",
   "nbconvert_exporter": "python",
   "pygments_lexer": "ipython3",
   "version": "3.12.7"
  }
 },
 "nbformat": 4,
 "nbformat_minor": 5
}

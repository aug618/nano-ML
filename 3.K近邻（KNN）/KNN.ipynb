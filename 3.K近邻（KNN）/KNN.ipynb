{
 "cells": [
  {
   "cell_type": "markdown",
   "id": "4a2a9d89",
   "metadata": {},
   "source": [
    "# 1、数据加载和预处理"
   ]
  },
  {
   "cell_type": "code",
   "execution_count": 12,
   "id": "6d4f29e5",
   "metadata": {},
   "outputs": [
    {
     "name": "stdout",
     "output_type": "stream",
     "text": [
      "   id diagnosis_result  radius  texture  perimeter  area  smoothness  \\\n",
      "0   1                M      23       12        151   954       0.143   \n",
      "1   2                B       9       13        133  1326       0.143   \n",
      "2   3                M      21       27        130  1203       0.125   \n",
      "3   4                M      14       16         78   386       0.070   \n",
      "4   5                M       9       19        135  1297       0.141   \n",
      "\n",
      "   compactness  symmetry  fractal_dimension  \n",
      "0        0.278     0.242              0.079  \n",
      "1        0.079     0.181              0.057  \n",
      "2        0.160     0.207              0.060  \n",
      "3        0.284     0.260              0.097  \n",
      "4        0.133     0.181              0.059  \n",
      "(100, 10)\n"
     ]
    }
   ],
   "source": [
    "import numpy as np\n",
    "import pandas as pd\n",
    "import matplotlib.pyplot as plt\n",
    "from sklearn.model_selection import train_test_split\n",
    "from sklearn.preprocessing import StandardScaler\n",
    "\n",
    "# 加载数据\n",
    "data = pd.read_csv('./data/data.csv')\n",
    "\n",
    "# 查看数据基本信息\n",
    "print(data.head())\n",
    "print(data.shape)"
   ]
  },
  {
   "cell_type": "code",
   "execution_count": 13,
   "id": "36daca22",
   "metadata": {},
   "outputs": [
    {
     "name": "stdout",
     "output_type": "stream",
     "text": [
      "Before scaling:  [1.80e+01 1.30e+01 7.30e+01 4.09e+02 9.50e-02 5.50e-02 1.92e-01 5.90e-02]\n",
      "After scaling:  [ 0.21131834 -0.96673649 -0.89158244 -0.80594761 -0.46541627 -1.08266423\n",
      " -0.02309829 -0.66942275]\n"
     ]
    }
   ],
   "source": [
    "# 处理特征和标签\n",
    "X = data.iloc[:, 2:].values  # 提取特征（从radius列开始）\n",
    "y = data['diagnosis_result'].values  # 提取标签（M为恶性，B为良性）\n",
    "\n",
    "# 将标签转换为数字（M=1, B=0）\n",
    "y = np.array([1 if label == 'M' else 0 for label in y])\n",
    "\n",
    "# 分割训练集和测试集\n",
    "X_train, X_test, y_train, y_test = train_test_split(X, y, test_size=0.2, random_state=42)\n",
    "\n",
    "# 特征标准化,消除特征尺度差异的影响\n",
    "scaler = StandardScaler()\n",
    "print(\"Before scaling: \", X_train[0])\n",
    "X_train = scaler.fit_transform(X_train)\n",
    "print(\"After scaling: \", X_train[0])\n",
    "X_test = scaler.transform(X_test)"
   ]
  },
  {
   "cell_type": "markdown",
   "id": "67cb44f1",
   "metadata": {},
   "source": [
    "# 2、KNN算法实现"
   ]
  },
  {
   "cell_type": "code",
   "execution_count": 14,
   "id": "ccf13804",
   "metadata": {},
   "outputs": [],
   "source": [
    "class KNN:\n",
    "    \"\"\"\n",
    "    K-近邻（K-Nearest Neighbors）分类器。\n",
    "\n",
    "    参数:\n",
    "        k (int, 可选): 最近邻居的数量。默认为 5。\n",
    "        distance_metric (str, 可选): 用于计算样本之间距离的度量方式。\n",
    "                                    支持 'euclidean' (欧氏距离) 和 'manhattan' (曼哈顿距离)。\n",
    "                                    默认为 'euclidean'。\n",
    "    \"\"\"\n",
    "    def __init__(self, k=5, distance_metric='euclidean'):\n",
    "        \"\"\"\n",
    "        初始化 KNN 分类器。\n",
    "        \"\"\"\n",
    "        self.k = k\n",
    "        self.distance_metric = distance_metric\n",
    "        self.X_train = None  # 存储训练特征数据\n",
    "        self.y_train = None  # 存储训练标签数据\n",
    "\n",
    "    def fit(self, X_train, y_train):\n",
    "        \"\"\"\n",
    "        存储训练数据。\n",
    "\n",
    "        参数:\n",
    "            X_train (numpy.ndarray): 训练特征数据，形状为 (n_samples, n_features)。\n",
    "            y_train (numpy.ndarray): 训练标签数据，形状为 (n_samples,)。\n",
    "\n",
    "        返回:\n",
    "            self: 返回 KNN 实例自身。\n",
    "        \"\"\"\n",
    "        self.X_train = X_train\n",
    "        self.y_train = y_train\n",
    "        return self\n",
    "\n",
    "    def calculate_distance(self, x1, x2):\n",
    "        \"\"\"\n",
    "        计算两个样本之间的距离。\n",
    "\n",
    "        参数:\n",
    "            x1 (numpy.ndarray): 第一个样本的特征向量，形状为 (n_features,)。\n",
    "            x2 (numpy.ndarray): 第二个样本的特征向量，形状为 (n_features,)。\n",
    "\n",
    "        返回:\n",
    "            float: 两个样本之间的距离。\n",
    "\n",
    "        Raises:\n",
    "            ValueError: 如果指定的距离度量方式不支持。\n",
    "        \"\"\"\n",
    "        if self.distance_metric == 'euclidean':\n",
    "            # 欧氏距离公式：sqrt(sum((a_i - b_i)^2))\n",
    "            return np.sqrt(np.sum((x1 - x2) ** 2))\n",
    "        elif self.distance_metric == 'manhattan':\n",
    "            # 曼哈顿距离公式：sum(|a_i - b_i|)\n",
    "            return np.sum(np.abs(x1 - x2))\n",
    "        else:\n",
    "            raise ValueError(\"不支持的距离度量方式\")\n",
    "\n",
    "    def predict(self, X):\n",
    "        \"\"\"\n",
    "        预测新样本的类别。\n",
    "\n",
    "        参数:\n",
    "            X (numpy.ndarray): 要预测的样本特征数据，形状为 (n_samples, n_features)。\n",
    "\n",
    "        返回:\n",
    "            numpy.ndarray: 包含每个样本预测类别的数组，形状为 (n_samples,)。\n",
    "        \"\"\"\n",
    "        # 对每个输入样本进行预测\n",
    "        y_pred = [self._predict(x) for x in X]\n",
    "        return np.array(y_pred)\n",
    "\n",
    "    def _predict(self, x):\n",
    "        \"\"\"\n",
    "        预测单个样本的类别。\n",
    "\n",
    "        参数:\n",
    "            x (numpy.ndarray): 单个要预测的样本特征向量，形状为 (n_features,)。\n",
    "\n",
    "        返回:\n",
    "            int or str: 预测的类别标签。\n",
    "        \"\"\"\n",
    "        # 1. 计算输入样本与所有训练样本的距离\n",
    "        distances = [self.calculate_distance(x, x_train) for x_train in self.X_train]\n",
    "\n",
    "        # 2. 获取距离最近的 k 个邻居的索引\n",
    "        # np.argsort(distances) 返回 distances 数组排序后的索引\n",
    "        # [:self.k] 取前 k 个最小距离的索引\n",
    "        k_indices = np.argsort(distances)[:self.k]\n",
    "\n",
    "        # 3. 获取这 k 个邻居的标签\n",
    "        k_nearest_labels = [self.y_train[i] for i in k_indices]\n",
    "\n",
    "        # 4. 返回出现次数最多的标签（投票）\n",
    "        # np.unique 返回数组中唯一的元素以及每个元素的计数\n",
    "        unique_labels, counts = np.unique(k_nearest_labels, return_counts=True)\n",
    "        # np.argmax(counts) 返回计数数组中最大值的索引，即出现次数最多的标签的索引\n",
    "        return unique_labels[np.argmax(counts)]\n",
    "\n",
    "    def score(self, X, y):\n",
    "        \"\"\"\n",
    "        计算模型在测试集上的准确率。\n",
    "\n",
    "        参数:\n",
    "            X (numpy.ndarray): 测试特征数据，形状为 (n_samples, n_features)。\n",
    "            y (numpy.ndarray): 测试标签数据，形状为 (n_samples,)。\n",
    "\n",
    "        返回:\n",
    "            float: 模型在测试集上的准确率（正确预测的样本数占总样本数的比例）。\n",
    "        \"\"\"\n",
    "        y_pred = self.predict(X)\n",
    "        accuracy = np.mean(y_pred == y)\n",
    "        return accuracy"
   ]
  },
  {
   "cell_type": "markdown",
   "id": "c825c080",
   "metadata": {},
   "source": [
    "# 3、模型训练与评估"
   ]
  },
  {
   "cell_type": "code",
   "execution_count": 15,
   "id": "7ba9fc65",
   "metadata": {},
   "outputs": [
    {
     "name": "stdout",
     "output_type": "stream",
     "text": [
      "模型准确率: 0.7000\n"
     ]
    }
   ],
   "source": [
    "# 实例化KNN模型\n",
    "knn = KNN(k=5)\n",
    "\n",
    "# 训练模型\n",
    "knn.fit(X_train, y_train)\n",
    "\n",
    "# 在测试集上进行预测\n",
    "y_pred = knn.predict(X_test)\n",
    "\n",
    "# 计算准确率\n",
    "accuracy = np.mean(y_pred == y_test)\n",
    "print(f\"模型准确率: {accuracy:.4f}\")\n"
   ]
  },
  {
   "cell_type": "markdown",
   "id": "cafda33e",
   "metadata": {},
   "source": [
    "# 4、测试不同K值影响"
   ]
  },
  {
   "cell_type": "code",
   "execution_count": 16,
   "id": "94359188",
   "metadata": {},
   "outputs": [
    {
     "data": {
      "application/vnd.plotly.v1+json": {
       "config": {
        "linkText": "Export to plot.ly",
        "plotlyServerURL": "https://plot.ly",
        "showLink": false
       },
       "data": [
        {
         "mode": "lines+markers",
         "type": "scatter",
         "x": [
          1,
          2,
          3,
          4,
          5,
          6,
          7,
          8,
          9,
          10,
          11,
          12,
          13,
          14,
          15,
          16,
          17,
          18,
          19,
          20
         ],
         "y": [
          0.75,
          0.6,
          0.75,
          0.7,
          0.7,
          0.7,
          0.75,
          0.7,
          0.75,
          0.8,
          0.85,
          0.8,
          0.8,
          0.85,
          0.8,
          0.8,
          0.75,
          0.75,
          0.7,
          0.8
         ]
        }
       ],
       "layout": {
        "hovermode": "closest",
        "template": {
         "data": {
          "bar": [
           {
            "error_x": {
             "color": "#2a3f5f"
            },
            "error_y": {
             "color": "#2a3f5f"
            },
            "marker": {
             "line": {
              "color": "#E5ECF6",
              "width": 0.5
             },
             "pattern": {
              "fillmode": "overlay",
              "size": 10,
              "solidity": 0.2
             }
            },
            "type": "bar"
           }
          ],
          "barpolar": [
           {
            "marker": {
             "line": {
              "color": "#E5ECF6",
              "width": 0.5
             },
             "pattern": {
              "fillmode": "overlay",
              "size": 10,
              "solidity": 0.2
             }
            },
            "type": "barpolar"
           }
          ],
          "carpet": [
           {
            "aaxis": {
             "endlinecolor": "#2a3f5f",
             "gridcolor": "white",
             "linecolor": "white",
             "minorgridcolor": "white",
             "startlinecolor": "#2a3f5f"
            },
            "baxis": {
             "endlinecolor": "#2a3f5f",
             "gridcolor": "white",
             "linecolor": "white",
             "minorgridcolor": "white",
             "startlinecolor": "#2a3f5f"
            },
            "type": "carpet"
           }
          ],
          "choropleth": [
           {
            "colorbar": {
             "outlinewidth": 0,
             "ticks": ""
            },
            "type": "choropleth"
           }
          ],
          "contour": [
           {
            "colorbar": {
             "outlinewidth": 0,
             "ticks": ""
            },
            "colorscale": [
             [
              0,
              "#0d0887"
             ],
             [
              0.1111111111111111,
              "#46039f"
             ],
             [
              0.2222222222222222,
              "#7201a8"
             ],
             [
              0.3333333333333333,
              "#9c179e"
             ],
             [
              0.4444444444444444,
              "#bd3786"
             ],
             [
              0.5555555555555556,
              "#d8576b"
             ],
             [
              0.6666666666666666,
              "#ed7953"
             ],
             [
              0.7777777777777778,
              "#fb9f3a"
             ],
             [
              0.8888888888888888,
              "#fdca26"
             ],
             [
              1,
              "#f0f921"
             ]
            ],
            "type": "contour"
           }
          ],
          "contourcarpet": [
           {
            "colorbar": {
             "outlinewidth": 0,
             "ticks": ""
            },
            "type": "contourcarpet"
           }
          ],
          "heatmap": [
           {
            "colorbar": {
             "outlinewidth": 0,
             "ticks": ""
            },
            "colorscale": [
             [
              0,
              "#0d0887"
             ],
             [
              0.1111111111111111,
              "#46039f"
             ],
             [
              0.2222222222222222,
              "#7201a8"
             ],
             [
              0.3333333333333333,
              "#9c179e"
             ],
             [
              0.4444444444444444,
              "#bd3786"
             ],
             [
              0.5555555555555556,
              "#d8576b"
             ],
             [
              0.6666666666666666,
              "#ed7953"
             ],
             [
              0.7777777777777778,
              "#fb9f3a"
             ],
             [
              0.8888888888888888,
              "#fdca26"
             ],
             [
              1,
              "#f0f921"
             ]
            ],
            "type": "heatmap"
           }
          ],
          "heatmapgl": [
           {
            "colorbar": {
             "outlinewidth": 0,
             "ticks": ""
            },
            "colorscale": [
             [
              0,
              "#0d0887"
             ],
             [
              0.1111111111111111,
              "#46039f"
             ],
             [
              0.2222222222222222,
              "#7201a8"
             ],
             [
              0.3333333333333333,
              "#9c179e"
             ],
             [
              0.4444444444444444,
              "#bd3786"
             ],
             [
              0.5555555555555556,
              "#d8576b"
             ],
             [
              0.6666666666666666,
              "#ed7953"
             ],
             [
              0.7777777777777778,
              "#fb9f3a"
             ],
             [
              0.8888888888888888,
              "#fdca26"
             ],
             [
              1,
              "#f0f921"
             ]
            ],
            "type": "heatmapgl"
           }
          ],
          "histogram": [
           {
            "marker": {
             "pattern": {
              "fillmode": "overlay",
              "size": 10,
              "solidity": 0.2
             }
            },
            "type": "histogram"
           }
          ],
          "histogram2d": [
           {
            "colorbar": {
             "outlinewidth": 0,
             "ticks": ""
            },
            "colorscale": [
             [
              0,
              "#0d0887"
             ],
             [
              0.1111111111111111,
              "#46039f"
             ],
             [
              0.2222222222222222,
              "#7201a8"
             ],
             [
              0.3333333333333333,
              "#9c179e"
             ],
             [
              0.4444444444444444,
              "#bd3786"
             ],
             [
              0.5555555555555556,
              "#d8576b"
             ],
             [
              0.6666666666666666,
              "#ed7953"
             ],
             [
              0.7777777777777778,
              "#fb9f3a"
             ],
             [
              0.8888888888888888,
              "#fdca26"
             ],
             [
              1,
              "#f0f921"
             ]
            ],
            "type": "histogram2d"
           }
          ],
          "histogram2dcontour": [
           {
            "colorbar": {
             "outlinewidth": 0,
             "ticks": ""
            },
            "colorscale": [
             [
              0,
              "#0d0887"
             ],
             [
              0.1111111111111111,
              "#46039f"
             ],
             [
              0.2222222222222222,
              "#7201a8"
             ],
             [
              0.3333333333333333,
              "#9c179e"
             ],
             [
              0.4444444444444444,
              "#bd3786"
             ],
             [
              0.5555555555555556,
              "#d8576b"
             ],
             [
              0.6666666666666666,
              "#ed7953"
             ],
             [
              0.7777777777777778,
              "#fb9f3a"
             ],
             [
              0.8888888888888888,
              "#fdca26"
             ],
             [
              1,
              "#f0f921"
             ]
            ],
            "type": "histogram2dcontour"
           }
          ],
          "mesh3d": [
           {
            "colorbar": {
             "outlinewidth": 0,
             "ticks": ""
            },
            "type": "mesh3d"
           }
          ],
          "parcoords": [
           {
            "line": {
             "colorbar": {
              "outlinewidth": 0,
              "ticks": ""
             }
            },
            "type": "parcoords"
           }
          ],
          "pie": [
           {
            "automargin": true,
            "type": "pie"
           }
          ],
          "scatter": [
           {
            "fillpattern": {
             "fillmode": "overlay",
             "size": 10,
             "solidity": 0.2
            },
            "type": "scatter"
           }
          ],
          "scatter3d": [
           {
            "line": {
             "colorbar": {
              "outlinewidth": 0,
              "ticks": ""
             }
            },
            "marker": {
             "colorbar": {
              "outlinewidth": 0,
              "ticks": ""
             }
            },
            "type": "scatter3d"
           }
          ],
          "scattercarpet": [
           {
            "marker": {
             "colorbar": {
              "outlinewidth": 0,
              "ticks": ""
             }
            },
            "type": "scattercarpet"
           }
          ],
          "scattergeo": [
           {
            "marker": {
             "colorbar": {
              "outlinewidth": 0,
              "ticks": ""
             }
            },
            "type": "scattergeo"
           }
          ],
          "scattergl": [
           {
            "marker": {
             "colorbar": {
              "outlinewidth": 0,
              "ticks": ""
             }
            },
            "type": "scattergl"
           }
          ],
          "scattermapbox": [
           {
            "marker": {
             "colorbar": {
              "outlinewidth": 0,
              "ticks": ""
             }
            },
            "type": "scattermapbox"
           }
          ],
          "scatterpolar": [
           {
            "marker": {
             "colorbar": {
              "outlinewidth": 0,
              "ticks": ""
             }
            },
            "type": "scatterpolar"
           }
          ],
          "scatterpolargl": [
           {
            "marker": {
             "colorbar": {
              "outlinewidth": 0,
              "ticks": ""
             }
            },
            "type": "scatterpolargl"
           }
          ],
          "scatterternary": [
           {
            "marker": {
             "colorbar": {
              "outlinewidth": 0,
              "ticks": ""
             }
            },
            "type": "scatterternary"
           }
          ],
          "surface": [
           {
            "colorbar": {
             "outlinewidth": 0,
             "ticks": ""
            },
            "colorscale": [
             [
              0,
              "#0d0887"
             ],
             [
              0.1111111111111111,
              "#46039f"
             ],
             [
              0.2222222222222222,
              "#7201a8"
             ],
             [
              0.3333333333333333,
              "#9c179e"
             ],
             [
              0.4444444444444444,
              "#bd3786"
             ],
             [
              0.5555555555555556,
              "#d8576b"
             ],
             [
              0.6666666666666666,
              "#ed7953"
             ],
             [
              0.7777777777777778,
              "#fb9f3a"
             ],
             [
              0.8888888888888888,
              "#fdca26"
             ],
             [
              1,
              "#f0f921"
             ]
            ],
            "type": "surface"
           }
          ],
          "table": [
           {
            "cells": {
             "fill": {
              "color": "#EBF0F8"
             },
             "line": {
              "color": "white"
             }
            },
            "header": {
             "fill": {
              "color": "#C8D4E3"
             },
             "line": {
              "color": "white"
             }
            },
            "type": "table"
           }
          ]
         },
         "layout": {
          "annotationdefaults": {
           "arrowcolor": "#2a3f5f",
           "arrowhead": 0,
           "arrowwidth": 1
          },
          "autotypenumbers": "strict",
          "coloraxis": {
           "colorbar": {
            "outlinewidth": 0,
            "ticks": ""
           }
          },
          "colorscale": {
           "diverging": [
            [
             0,
             "#8e0152"
            ],
            [
             0.1,
             "#c51b7d"
            ],
            [
             0.2,
             "#de77ae"
            ],
            [
             0.3,
             "#f1b6da"
            ],
            [
             0.4,
             "#fde0ef"
            ],
            [
             0.5,
             "#f7f7f7"
            ],
            [
             0.6,
             "#e6f5d0"
            ],
            [
             0.7,
             "#b8e186"
            ],
            [
             0.8,
             "#7fbc41"
            ],
            [
             0.9,
             "#4d9221"
            ],
            [
             1,
             "#276419"
            ]
           ],
           "sequential": [
            [
             0,
             "#0d0887"
            ],
            [
             0.1111111111111111,
             "#46039f"
            ],
            [
             0.2222222222222222,
             "#7201a8"
            ],
            [
             0.3333333333333333,
             "#9c179e"
            ],
            [
             0.4444444444444444,
             "#bd3786"
            ],
            [
             0.5555555555555556,
             "#d8576b"
            ],
            [
             0.6666666666666666,
             "#ed7953"
            ],
            [
             0.7777777777777778,
             "#fb9f3a"
            ],
            [
             0.8888888888888888,
             "#fdca26"
            ],
            [
             1,
             "#f0f921"
            ]
           ],
           "sequentialminus": [
            [
             0,
             "#0d0887"
            ],
            [
             0.1111111111111111,
             "#46039f"
            ],
            [
             0.2222222222222222,
             "#7201a8"
            ],
            [
             0.3333333333333333,
             "#9c179e"
            ],
            [
             0.4444444444444444,
             "#bd3786"
            ],
            [
             0.5555555555555556,
             "#d8576b"
            ],
            [
             0.6666666666666666,
             "#ed7953"
            ],
            [
             0.7777777777777778,
             "#fb9f3a"
            ],
            [
             0.8888888888888888,
             "#fdca26"
            ],
            [
             1,
             "#f0f921"
            ]
           ]
          },
          "colorway": [
           "#636efa",
           "#EF553B",
           "#00cc96",
           "#ab63fa",
           "#FFA15A",
           "#19d3f3",
           "#FF6692",
           "#B6E880",
           "#FF97FF",
           "#FECB52"
          ],
          "font": {
           "color": "#2a3f5f"
          },
          "geo": {
           "bgcolor": "white",
           "lakecolor": "white",
           "landcolor": "#E5ECF6",
           "showlakes": true,
           "showland": true,
           "subunitcolor": "white"
          },
          "hoverlabel": {
           "align": "left"
          },
          "hovermode": "closest",
          "mapbox": {
           "style": "light"
          },
          "paper_bgcolor": "white",
          "plot_bgcolor": "#E5ECF6",
          "polar": {
           "angularaxis": {
            "gridcolor": "white",
            "linecolor": "white",
            "ticks": ""
           },
           "bgcolor": "#E5ECF6",
           "radialaxis": {
            "gridcolor": "white",
            "linecolor": "white",
            "ticks": ""
           }
          },
          "scene": {
           "xaxis": {
            "backgroundcolor": "#E5ECF6",
            "gridcolor": "white",
            "gridwidth": 2,
            "linecolor": "white",
            "showbackground": true,
            "ticks": "",
            "zerolinecolor": "white"
           },
           "yaxis": {
            "backgroundcolor": "#E5ECF6",
            "gridcolor": "white",
            "gridwidth": 2,
            "linecolor": "white",
            "showbackground": true,
            "ticks": "",
            "zerolinecolor": "white"
           },
           "zaxis": {
            "backgroundcolor": "#E5ECF6",
            "gridcolor": "white",
            "gridwidth": 2,
            "linecolor": "white",
            "showbackground": true,
            "ticks": "",
            "zerolinecolor": "white"
           }
          },
          "shapedefaults": {
           "line": {
            "color": "#2a3f5f"
           }
          },
          "ternary": {
           "aaxis": {
            "gridcolor": "white",
            "linecolor": "white",
            "ticks": ""
           },
           "baxis": {
            "gridcolor": "white",
            "linecolor": "white",
            "ticks": ""
           },
           "bgcolor": "#E5ECF6",
           "caxis": {
            "gridcolor": "white",
            "linecolor": "white",
            "ticks": ""
           }
          },
          "title": {
           "x": 0.05
          },
          "xaxis": {
           "automargin": true,
           "gridcolor": "white",
           "linecolor": "white",
           "ticks": "",
           "title": {
            "standoff": 15
           },
           "zerolinecolor": "white",
           "zerolinewidth": 2
          },
          "yaxis": {
           "automargin": true,
           "gridcolor": "white",
           "linecolor": "white",
           "ticks": "",
           "title": {
            "standoff": 15
           },
           "zerolinecolor": "white",
           "zerolinewidth": 2
          }
         }
        },
        "title": {
         "text": "KNN 模型准确率 vs. K 值",
         "x": 0.5
        },
        "xaxis": {
         "title": {
          "text": "K 值"
         }
        },
        "yaxis": {
         "title": {
          "text": "准确率"
         }
        }
       }
      }
     },
     "metadata": {},
     "output_type": "display_data"
    }
   ],
   "source": [
    "import plotly.graph_objects as go\n",
    "from plotly.offline import init_notebook_mode, iplot\n",
    "# 尝试不同的 K 值\n",
    "k_values = range(1, 21)  # 尝试 K 从 1 到 20\n",
    "accuracies = []\n",
    "\n",
    "for k in k_values:\n",
    "    knn = KNN(k=k)\n",
    "    knn.fit(X_train, y_train)\n",
    "    y_pred = knn.predict(X_test)\n",
    "    accuracy = np.mean(y_pred == y_test)\n",
    "    accuracies.append(accuracy)\n",
    "\n",
    "# 使用 Plotly 绘制交互式折线图\n",
    "fig = go.Figure(data=[go.Scatter(x=list(k_values), y=accuracies, mode='lines+markers')])\n",
    "\n",
    "fig.update_layout(\n",
    "    title='KNN 模型准确率 vs. K 值',\n",
    "    title_x=0.5,\n",
    "    xaxis_title='K 值',\n",
    "    yaxis_title='准确率',\n",
    "    hovermode='closest'\n",
    ")\n",
    "\n",
    "iplot(fig) # 在 Notebook 中显示"
   ]
  }
 ],
 "metadata": {
  "kernelspec": {
   "display_name": "opencv",
   "language": "python",
   "name": "python3"
  },
  "language_info": {
   "codemirror_mode": {
    "name": "ipython",
    "version": 3
   },
   "file_extension": ".py",
   "mimetype": "text/x-python",
   "name": "python",
   "nbconvert_exporter": "python",
   "pygments_lexer": "ipython3",
   "version": "3.12.7"
  }
 },
 "nbformat": 4,
 "nbformat_minor": 5
}
